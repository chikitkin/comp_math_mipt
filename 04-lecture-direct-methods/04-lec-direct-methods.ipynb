{
 "cells": [
  {
   "cell_type": "markdown",
   "metadata": {},
   "source": [
    "## Реализация LU разложения без перестановок"
   ]
  },
  {
   "cell_type": "code",
   "execution_count": 1,
   "metadata": {},
   "outputs": [
    {
     "name": "stdout",
     "output_type": "stream",
     "text": [
      "A = \n",
      " [[0.79850736 0.65244386 0.73488528]\n",
      " [0.09432387 0.76763496 0.40734354]\n",
      " [0.39161901 0.12110046 0.50744772]] \n",
      "\n",
      "L = \n",
      " [[ 1.          0.          0.        ]\n",
      " [ 0.11812523  1.          0.        ]\n",
      " [ 0.49043882 -0.28800094  1.        ]] \n",
      "\n",
      "U = \n",
      " [[0.79850736 0.65244386 0.73488528]\n",
      " [0.         0.69056488 0.32053504]\n",
      " [0.         0.         0.23934585]] \n",
      "\n",
      "A - L @ U = \n",
      " [[0. 0. 0.]\n",
      " [0. 0. 0.]\n",
      " [0. 0. 0.]] \n",
      "\n"
     ]
    }
   ],
   "source": [
    "import numpy as np\n",
    "\n",
    "# LU-factorization without pivoting\n",
    "n = 3\n",
    "A = np.random.rand(n,n)\n",
    "U = np.copy(A) \n",
    "L = np.eye(n)\n",
    "for k in range(n-1):\n",
    "    for j in range(k+1,n):\n",
    "        L[j,k] =   U[j,k] / U[k,k]\n",
    "        U[j,k:n] = U[j,k:n] - L[j,k] * U[k, k:n]\n",
    "\n",
    "print('A = \\n', A, '\\n') \n",
    "print('L = \\n', L, '\\n')\n",
    "print('U = \\n', U, '\\n')\n",
    "print('A - L @ U = \\n', A - L @ U, '\\n')"
   ]
  },
  {
   "cell_type": "markdown",
   "metadata": {},
   "source": [
    "## LU разложение с перестановками с помощью готовой функции"
   ]
  },
  {
   "cell_type": "code",
   "execution_count": 5,
   "metadata": {},
   "outputs": [
    {
     "name": "stdout",
     "output_type": "stream",
     "text": [
      "P = \n",
      " [[0. 0. 0. 1.]\n",
      " [0. 1. 0. 0.]\n",
      " [0. 0. 1. 0.]\n",
      " [1. 0. 0. 0.]]\n",
      "A - P @ L @ U = \n",
      " [[ 0.00000000e+00  0.00000000e+00  0.00000000e+00 -1.11022302e-16]\n",
      " [ 0.00000000e+00  0.00000000e+00  0.00000000e+00  0.00000000e+00]\n",
      " [ 0.00000000e+00  0.00000000e+00 -1.11022302e-16  1.11022302e-16]\n",
      " [ 0.00000000e+00  0.00000000e+00  0.00000000e+00  0.00000000e+00]]\n"
     ]
    }
   ],
   "source": [
    "# LU-factorization with pivoting\n",
    "from scipy import linalg as scpla\n",
    "n = 4\n",
    "A = np.random.rand(n,n)\n",
    "P, L, U = scpla.lu(A)\n",
    "print('P = \\n', P)\n",
    "print('A - P @ L @ U = \\n', A - P @ L @ U)"
   ]
  },
  {
   "cell_type": "markdown",
   "metadata": {},
   "source": [
    "## Решение задачи регрессии методом наименьших квадратов\n",
    "Для решения переопределенной системы используется QR разложение"
   ]
  },
  {
   "cell_type": "code",
   "execution_count": 9,
   "metadata": {},
   "outputs": [
    {
     "data": {
      "image/png": "[encoded data removed]",
      "text/plain": [
       "<Figure size 432x288 with 1 Axes>"
      ]
     },
     "metadata": {
      "needs_background": "light"
     },
     "output_type": "display_data"
    }
   ],
   "source": [
    "# Метод наименьших квадратов\n",
    "import numpy as np\n",
    "%matplotlib inline\n",
    "import matplotlib\n",
    "from matplotlib import pyplot as plt\n",
    "m = 11\n",
    "xx = np.linspace(-1, 1, m)\n",
    "yy = np.array([0, 0, 0, 1., 1., 1, 0, 0, 0, 0, 0 ])\n",
    "n = 11\n",
    "# Создаем матрицу Вандермонда\n",
    "A = np.zeros((m, n))\n",
    "for i in range(m):\n",
    "    for j in range(n):\n",
    "        A[i,j] = xx[i]**j\n",
    "        \n",
    "Q, R = np.linalg.qr(A)\n",
    "v = Q.T @ yy\n",
    "c = np.linalg.inv(R) @ v\n",
    "\n",
    "plt.plot(xx, yy, 'ro')\n",
    "x = np.linspace(-1,1, 1000)\n",
    "plt.plot(x, np.polyval(c[::-1],x), 'b-', label  = 'polynomial of degree ' + str(n-1))\n",
    "\n",
    "n = 6\n",
    "# Создаем матрицу Вандермонда\n",
    "A = np.zeros((m, n))\n",
    "for i in range(m):\n",
    "    for j in range(n):\n",
    "        A[i,j] = xx[i]**j\n",
    "        \n",
    "Q, R = np.linalg.qr(A)\n",
    "v = Q.T @ yy\n",
    "c = np.linalg.inv(R) @ v\n",
    "plt.plot(xx, yy, 'ro', label = 'interpolation points')\n",
    "x = np.linspace(-1,1, 1000)\n",
    "plt.plot(x, np.polyval(c[::-1],x), 'g-', label  = 'polynomial of degree ' + str(n-1))\n",
    "plt.legend()\n",
    "plt.grid(True)"
   ]
  }
 ],
 "metadata": {
  "kernelspec": {
   "display_name": "Python 3",
   "language": "python",
   "name": "python3"
  },
  "language_info": {
   "codemirror_mode": {
    "name": "ipython",
    "version": 3
   },
   "file_extension": ".py",
   "mimetype": "text/x-python",
   "name": "python",
   "nbconvert_exporter": "python",
   "pygments_lexer": "ipython3",
   "version": "3.7.6"
  }
 },
 "nbformat": 4,
 "nbformat_minor": 2
}
