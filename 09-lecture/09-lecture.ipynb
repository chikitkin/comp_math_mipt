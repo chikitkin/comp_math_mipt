{
 "cells": [
  {
   "cell_type": "code",
   "execution_count": 16,
   "metadata": {},
   "outputs": [],
   "source": [
    "%matplotlib inline\n",
    "import numpy as np\n",
    "from matplotlib import pyplot as plt\n",
    "import matplotlib\n",
    "from scipy import integrate\n",
    "matplotlib.rcParams.update({'font.size': 22})"
   ]
  },
  {
   "cell_type": "markdown",
   "metadata": {
    "slideshow": {
     "slide_type": "slide"
    }
   },
   "source": [
    "# Вычислительная математика\n",
    "## Численное интегрирование"
   ]
  },
  {
   "cell_type": "markdown",
   "metadata": {
    "slideshow": {
     "slide_type": "slide"
    }
   },
   "source": [
    "## Задача численного интегрирования\n",
    "Дана процедура вычисления значений $f(x)$. Найти приближенное значение определенного интеграла\n",
    "$$\n",
    "S(f) \\approx I(f) = \\int_a^b f(x) dx\n",
    "$$"
   ]
  },
  {
   "cell_type": "markdown",
   "metadata": {
    "slideshow": {
     "slide_type": "fragment"
    }
   },
   "source": [
    "Основная идея:\n",
    "* Приблизить $f$ *простой* функцией $\\phi$, а функцию $\\phi$ проинтегрировать аналитически"
   ]
  },
  {
   "cell_type": "markdown",
   "metadata": {
    "slideshow": {
     "slide_type": "slide"
    }
   },
   "source": [
    "## Интерполяционные квадратурные формулы\n",
    "\n",
    "* Рассмотрим отрезок $[-1,1]$, отобразим его на $[a,b]$:\n",
    "$$\n",
    "x = x(t) = \\frac{a+b}{2} + \\frac{b - a}{2} t\n",
    "$$\n",
    "Выберем различные узлы $t_1, \\ldots, t_n \\in [-1,1]$ и $x_i = x(t_i)$"
   ]
  },
  {
   "cell_type": "markdown",
   "metadata": {
    "slideshow": {
     "slide_type": "fragment"
    }
   },
   "source": [
    "* Построим интерполяционный многочлен:\n",
    "$$\n",
    "L_{n-1}(x) = \\sum_{i=1}^n \\prod_{j=1, \\; j\\ne i}^n f(x_i) \\frac{x -x_j}{x_i - x_j}\n",
    "$$"
   ]
  },
  {
   "cell_type": "markdown",
   "metadata": {
    "slideshow": {
     "slide_type": "fragment"
    }
   },
   "source": [
    "* Проинтегрируем по $[a,b]$\n",
    "$$\n",
    "S(f) = \\int_a^b L_{n-1} (x) \\, dx = \\sum_{i=1}^n d_i \\, f(x_i), \\quad d_i = \\frac{b-a}{2} \\int_{-1}^1 \\prod_{j=1,\\;j\\ne i}^n \\frac{t - t_j}{t_i - t_j} \\, dt\n",
    "$$\n",
    "* Формулы, полученные путем интегрирования интерполяционного многочлена называют формулами *Ньютона-Котеса*."
   ]
  },
  {
   "cell_type": "markdown",
   "metadata": {
    "slideshow": {
     "slide_type": "slide"
    }
   },
   "source": [
    "## Интерполяционные формулы, оценка ошибки\n",
    "\n",
    "Если $f \\in C^n[a,b]$, то из формулы для ошибки интерполяции получаем:\n",
    "$$\n",
    "\\lvert I(f) - S(f) \\rvert \\le \\frac{\\lVert f^{(n)}\\rVert_{C[a,b]}}{n!} \\left( \\frac{b-a}{2} \\right)^{n+1} \\int_{-1}^{+1} \\bigg| \\prod_{j=1}^n (t -t_j)\\bigg| \\, dt\n",
    "$$"
   ]
  },
  {
   "cell_type": "markdown",
   "metadata": {
    "slideshow": {
     "slide_type": "fragment"
    }
   },
   "source": [
    "### Алгебраическая точность\n",
    "* $S(f)$ имеет алгебраическую точность $m$, если она точна для многочленов степени $\\le m$.  \n",
    "* **Теорема:** Квадратурная формула $S$ с $n$ узлами имеет алгебраическую точность $m \\ge n-1$ $\\Leftrightarrow$ она является интерполяционной квадратурной формулой."
   ]
  },
  {
   "cell_type": "markdown",
   "metadata": {
    "slideshow": {
     "slide_type": "fragment"
    }
   },
   "source": [
    "* $\\Leftarrow$ По построению\n",
    "* $\\Rightarrow$ Подставим вместо $f$ многочлены Лагранжа $l_i(x)$, для которых формула точна."
   ]
  },
  {
   "cell_type": "markdown",
   "metadata": {
    "slideshow": {
     "slide_type": "slide"
    }
   },
   "source": [
    "## Примеры квадратурных формул\n",
    "\n",
    "1) *Формула прямоугольников с центральной точкой*: $S(f) = f(\\frac{a+b}{2}) h$,  ($h = b - a$)  \n",
    "Интерполяция 0-го порядка. Оценка ошибки для $f \\in C^1$: $\\lvert I(f) - S(f)\\rvert \\le \\frac{1}{4}M_1 h^2$.  \n",
    "Ту же формулу можно получить из линейной интерполяции Эрмита для кратного узла $t_1 = t_2 = 0$: $H(t) = f(0) + f'(0) t$. Следовательно, можно улучшить оценку погрешности для $f \\in C^2$:\n",
    "$$\n",
    "\\lvert I(f) - S(f) \\rvert \\le \\frac{1}{24} M_2 h^3\n",
    "$$\n",
    "\n"
   ]
  },
  {
   "cell_type": "markdown",
   "metadata": {
    "slideshow": {
     "slide_type": "fragment"
    }
   },
   "source": [
    "2) *Формула трапеций*: $S(f) = \\frac{1}{2} (f(a) + f(b)) h$. Для $f \\in C^2$\n",
    "$$\n",
    "\\lvert I(f) - S(f)\\rvert \\le \\frac{1}{12} M_2 h^3\n",
    "$$"
   ]
  },
  {
   "cell_type": "markdown",
   "metadata": {
    "slideshow": {
     "slide_type": "fragment"
    }
   },
   "source": [
    "3) *Формула Симпсона*: обычная интерполяция по 3-м точкам $-1,0,+1$ и эрмитова интерполяция с кратным узлом $-1,0,0,+1$ дают один и тот же результат:\n",
    "$$\n",
    "S(f) = \\frac{h}{6} \\left(f(a) + f(\\frac{a+b}{2}) + f(b)\\right)\n",
    "$$"
   ]
  },
  {
   "cell_type": "markdown",
   "metadata": {
    "slideshow": {
     "slide_type": "slide"
    }
   },
   "source": [
    "## Составные квадратурные формулы\n",
    "Часто применяют составные квадратурные формулы:\n",
    "* отрезок $[a,b]$ разбивается на $n$ отрезков длины $h = \\frac{b-a}{n}$\n",
    "* на каждом отрезке применяется квадратурная формула, результаты складываются\n",
    "* если квадратурная формула имеет порядок точности $p$, то для составной формулы получается  порядок $p-1$:\n",
    "$$\n",
    "E = n O(h^p) = \\frac{b-a}{h} O(h^{p}) = O(h^{p-1}) \n",
    "$$"
   ]
  },
  {
   "cell_type": "code",
   "execution_count": 11,
   "metadata": {
    "slideshow": {
     "slide_type": "slide"
    }
   },
   "outputs": [
    {
     "name": "stdout",
     "output_type": "stream",
     "text": [
      "1.212363542890671e-12\n"
     ]
    },
    {
     "data": {
      "image/png": "[encoded data removed]",
      "text/plain": [
       "<matplotlib.figure.Figure at 0x86799e8>"
      ]
     },
     "metadata": {},
     "output_type": "display_data"
    }
   ],
   "source": [
    "f = lambda x: 1/(1 + x**2)\n",
    "I_ex = np.pi/2 \n",
    "N = 20\n",
    "err = np.zeros(N)\n",
    "h = 2/2**np.arange(N)\n",
    "n = 2**np.arange(N)\n",
    "for k in range(N):\n",
    "    x = np.linspace(-1, 1, n[k] + 1)\n",
    "    fval = f(x)\n",
    "    I_tr = h[k] * (np.sum(fval) - 0.5*(fval[0] + fval[-1]))\n",
    "    err[k] = np.abs(I_tr - I_ex)\n",
    "fig, ax = plt.subplots()\n",
    "plt.loglog(h, err, 'ko', label = 'Error')\n",
    "plt.loglog(h, err[-1]*(h/h[-1])**2, 'r-', label = '2nd order')\n",
    "plt.legend()\n",
    "print(err[-1])"
   ]
  },
  {
   "cell_type": "markdown",
   "metadata": {
    "slideshow": {
     "slide_type": "slide"
    }
   },
   "source": [
    "## Квадратурные формулы Гаусса-Кристофеля\n",
    "\n",
    "* Интерполяционные формулы по *любому* набору $n$ узлов имеют алгебраическую точность не ниже $n-1$ "
   ]
  },
  {
   "cell_type": "markdown",
   "metadata": {
    "slideshow": {
     "slide_type": "fragment"
    }
   },
   "source": [
    "* Можно ли подобрать узлы так, чтобы точность была $2n-1$? Иначе говоря, есть ли решение у системы:\n",
    "$$\n",
    "\\sum_{i=1}^{n} d_i x_i^k = \\int_{-1}^{1} x^k \\, k=0,\\ldots, 2n-1 \n",
    "$$"
   ]
  },
  {
   "cell_type": "markdown",
   "metadata": {
    "slideshow": {
     "slide_type": "fragment"
    }
   },
   "source": [
    "**Теорема:** *Для любого числа узлов $n$ существует единственная квадратурная формула с алгебраической точностью $2n-1$ *"
   ]
  },
  {
   "cell_type": "markdown",
   "metadata": {
    "slideshow": {
     "slide_type": "slide"
    }
   },
   "source": [
    "## Квадратурные формулы Гаусса-Кристофеля\n",
    "**Доказательство**  \n",
    "1) Обозначим $\\displaystyle \\omega_n =\\prod_{j=1}^n (x - x_j)$. Если существует формула точности $2n$, то $I(\\omega^n) = \\sum d_i \\omega^2(x_i) = 0$ - противоречие."
   ]
  },
  {
   "cell_type": "markdown",
   "metadata": {
    "slideshow": {
     "slide_type": "fragment"
    }
   },
   "source": [
    "2) Если формула имеет точность $2n - 1$, то \n",
    "$$\n",
    "I \\big(\\omega_n(x) r_{n-1}(x)\\big) = S\\big(\\omega_n(x) r_{n-1}(x)\\big) = 0, \\; \\forall \\, r_{n-1} \\in \\mathcal{P}_{n-1}\n",
    "$$\n",
    "*Следовательно, $\\omega_n$ - $n$-й многочлен из последовательности ортогональных многочленов.* "
   ]
  },
  {
   "cell_type": "markdown",
   "metadata": {
    "slideshow": {
     "slide_type": "fragment"
    }
   },
   "source": [
    "3) Такой многочлен определяется однозначно с точностью до нормировки и имеет $n$ корней $x_1,\\ldots, x_n$ внутри отрезка $[a,b]$.   \n",
    "Т.к. формула является интерполяционной, то веса вычисляются по формуле:\n",
    "$$\n",
    "\\quad d_i = \\frac{b-a}{2} \\int_{-1}^1 \\prod_{j=1,\\;j\\ne i}^n \\frac{t - t_j}{t_i - t_j} \\, dt\n",
    "$$"
   ]
  },
  {
   "cell_type": "markdown",
   "metadata": {
    "slideshow": {
     "slide_type": "fragment"
    }
   },
   "source": [
    "4) Проверим, что точность равна $2n-1$\n",
    "$$\n",
    "p_{2n-1}(x) = q_{n-1}(x) \\omega_n(x) + r_{n-1}(x) \\Rightarrow \\; I(p_{2n-1}) = I(q_{n-1} \\omega_n) + I(r_{n-1}) = S(r_{n-1}) = S(q_{n-1} \\omega_n) + S(r_{n-1}) = S(p_{2n-1})\n",
    "$$"
   ]
  },
  {
   "cell_type": "code",
   "execution_count": 22,
   "metadata": {
    "slideshow": {
     "slide_type": "slide"
    }
   },
   "outputs": [
    {
     "name": "stdout",
     "output_type": "stream",
     "text": [
      "Error trap =  8.333331802390376e-10 Error gauss =  1.5543122344752192e-15\n"
     ]
    }
   ],
   "source": [
    "f = lambda x: 1/(1 + x**2)\n",
    "I_ex = np.pi/2 \n",
    "n = 20000\n",
    "h = 2/n\n",
    "err = np.zeros(N)\n",
    "x = np.linspace(-1, 1, n+1)\n",
    "fval = f(x)\n",
    "I_tr = h * (np.sum(fval) - 0.5*(fval[0] + fval[-1]))\n",
    "#\n",
    "Ig, a = integrate.fixed_quad(f, -1, 1, n = 20)\n",
    "print('Error trap = ', np.abs(I_tr - I_ex), 'Error gauss = ', np.abs(Ig - I_ex))"
   ]
  },
  {
   "cell_type": "markdown",
   "metadata": {
    "slideshow": {
     "slide_type": "slide"
    }
   },
   "source": [
    "## Правило Рунге для оценки погрешности интегрирования\n",
    "* Обычно, величина производных функции заранее неизвестна\n"
   ]
  },
  {
   "cell_type": "markdown",
   "metadata": {
    "slideshow": {
     "slide_type": "fragment"
    }
   },
   "source": [
    "* Рассмотрим формулу $S_1$ точности $n-1$ на отрезке длины $h$, пусть $c$ - серидина отрезка, тогда:\n",
    "$$\n",
    "I(f) - S_1(f) = \\alpha f^{(n)}(c) h^{n+1} + O(h^{n+2})\n",
    "$$"
   ]
  },
  {
   "cell_type": "markdown",
   "metadata": {
    "slideshow": {
     "slide_type": "fragment"
    }
   },
   "source": [
    "* Пусть $S_2$ - составная формула по 2-м половинкам того же отрезка:\n",
    "$$\n",
    "I(f) - S_2(f) = \\alpha f^{(n)}(c)\\frac{h^{n+1}}{2^n} + O(h^{n+2})\n",
    "$$"
   ]
  },
  {
   "cell_type": "markdown",
   "metadata": {
    "slideshow": {
     "slide_type": "fragment"
    }
   },
   "source": [
    "* С точностью до членов $O(h^{n+2})$ получаем:\n",
    "$$\n",
    "I(f) - S_2(f) \\approx \\frac{S_2 - S_1}{2^n - 1}\n",
    "$$"
   ]
  },
  {
   "cell_type": "code",
   "execution_count": 23,
   "metadata": {
    "slideshow": {
     "slide_type": "slide"
    }
   },
   "outputs": [],
   "source": [
    "## Правило Рунге"
   ]
  },
  {
   "cell_type": "markdown",
   "metadata": {
    "slideshow": {
     "slide_type": "slide"
    }
   },
   "source": [
    "## Вычисление несобственных интегралов\n",
    "$$\n",
    "\\int_{a}^b f(x) \\, dx, \\quad f(x) \\to \\infty \\mbox{ при } x \\to a \\quad \\int_0^1 \\frac{\\cos x}{\\sqrt{x}}\\, dx\n",
    "$$\n",
    "Производные неограничены, поэтому обычные формулы не применимы."
   ]
  },
  {
   "cell_type": "markdown",
   "metadata": {
    "slideshow": {
     "slide_type": "fragment"
    }
   },
   "source": [
    "* **Замена переменной**\n",
    "$$\n",
    "x = t^2 \\Rightarrow I = 2 \\int_{0}^{1} \\cos t^2 \\, dt\n",
    "$$"
   ]
  },
  {
   "cell_type": "markdown",
   "metadata": {
    "slideshow": {
     "slide_type": "fragment"
    }
   },
   "source": [
    "* **Интегрирование по частям**\n",
    "$$\n",
    "I = \\int_0^1 \\frac{\\cos x}{\\sqrt{x}}\\, dx = 2 \\sqrt{x} \\cos x\\bigg|_0^1 + 2 \\int_0^1 \\sqrt{x} \\sin x \\, dx\n",
    "$$\n",
    "Второй интеграл можно вычислить, но **2-я производная не ограничена**, поэтому имеет смысл ещё раз проинтегрировать по частям."
   ]
  },
  {
   "cell_type": "markdown",
   "metadata": {
    "slideshow": {
     "slide_type": "fragment"
    }
   },
   "source": [
    "*  **Выделение особенности**\n",
    "$$\n",
    "I = I_1 + I_2 = \\int_0^\\delta \\frac{\\cos x}{\\sqrt{x}} \\,dx + \\int_{\\delta}^1 \\frac{\\cos x}{\\sqrt{x}}\\,dx, \\quad I_1 = \\int_0^\\delta \\frac{1 - \\displaystyle \\sum_{k=0}^\\infty (-1)^k\\frac{x^{2k}}{2k!}}{\\sqrt{x}} \\, dx = \\sum_{k=0}^n \\frac{(-1)^k \\delta^{2k+1/2}}{2k+1/2} + R\n",
    "$$\n",
    "$R$ по модулю не больше последнего члена частичной суммы"
   ]
  },
  {
   "cell_type": "markdown",
   "metadata": {
    "slideshow": {
     "slide_type": "slide"
    }
   },
   "source": [
    "## Интегралы от осциллирующих функций\n",
    "\n",
    "* Часто возникают интегралы вида: \n",
    "$$\n",
    "\\int_{-1}^{1} f(x) \\cos(kx) \\, dx\n",
    "$$\n",
    "Для вычисления по обычным квадратурным формулам нужно взять очень много узлов.\n",
    "\n",
    "* Можно приблизить функцию $f$, например, многочленом, и вычислить интеграл аналитически."
   ]
  }
 ],
 "metadata": {
  "anaconda-cloud": {},
  "celltoolbar": "Slideshow",
  "kernelspec": {
   "display_name": "Python 3",
   "language": "python",
   "name": "python3"
  },
  "language_info": {
   "codemirror_mode": {
    "name": "ipython",
    "version": 3
   },
   "file_extension": ".py",
   "mimetype": "text/x-python",
   "name": "python",
   "nbconvert_exporter": "python",
   "pygments_lexer": "ipython3",
   "version": "3.6.4"
  },
  "livereveal": {
   "start_slideshow_at": "selected",
   "theme": "white",
   "transition": "zoom"
  }
 },
 "nbformat": 4,
 "nbformat_minor": 2
}
