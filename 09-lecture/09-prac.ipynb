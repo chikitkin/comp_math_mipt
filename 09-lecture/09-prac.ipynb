{
 "cells": [
  {
   "cell_type": "code",
   "execution_count": 5,
   "metadata": {},
   "outputs": [],
   "source": [
    "%matplotlib inline\n",
    "import numpy as np\n",
    "from matplotlib import pyplot as plt\n",
    "import matplotlib\n",
    "from scipy import integrate\n",
    "matplotlib.rcParams.update({'font.size': 22})"
   ]
  },
  {
   "cell_type": "markdown",
   "metadata": {
    "slideshow": {
     "slide_type": "slide"
    }
   },
   "source": [
    "## Численное интегрирование\n",
    "$$\n",
    "I = \\int_{a}^{b} f(x) \\, dx \\approx S(f) = \\sum_{k=1}^n d_k f(x_k)\n",
    "$$\n",
    "\n",
    "**Задача 1**  \n",
    "Получите веса квадратурной формулы Симпсона - интерполяционной формулы, которая получается при замене $f$ многочленом 2-й степени по точкам $a, (a+b)/2, b$\n",
    "\n",
    "**Задача 2**  \n",
    "Получите оценку ошибки для формулы Симпсона, используя разложение $f$ в ряд Тейлора относительно середины отрезка $(b+a)/2$\n",
    "\n",
    "**Задача 3**  \n",
    "Используя код в следующей ячейке, постройте такой же график для составной формулы Симпсона (когда на каждом маленьком отрезке используется обычная формула Симпсона). Убедитесь, что порядок совпадает с теоретическим."
   ]
  },
  {
   "cell_type": "code",
   "execution_count": 7,
   "metadata": {
    "slideshow": {
     "slide_type": "slide"
    }
   },
   "outputs": [
    {
     "name": "stdout",
     "output_type": "stream",
     "text": [
      "1.212363542890671e-12\n"
     ]
    },
    {
     "data": {
      "image/png": "[encoded data removed]",
      "text/plain": [
       "<matplotlib.figure.Figure at 0x982d860>"
      ]
     },
     "metadata": {},
     "output_type": "display_data"
    }
   ],
   "source": [
    "f = lambda x: 1/(1 + x**2)\n",
    "I_ex = np.pi/2 \n",
    "N = 20\n",
    "err = np.zeros(N)\n",
    "h = 2/2**np.arange(N)\n",
    "n = 2**np.arange(N)\n",
    "for k in range(N):\n",
    "    x = np.linspace(-1, 1, n[k] + 1)\n",
    "    fval = f(x)\n",
    "    I_tr = h[k] * (np.sum(fval) - 0.5*(fval[0] + fval[-1]))\n",
    "    err[k] = np.abs(I_tr - I_ex)\n",
    "fig, ax = plt.subplots()\n",
    "plt.loglog(h, err, 'ko', label = 'Error')\n",
    "plt.loglog(h, err[-1]*(h/h[-1])**2, 'r-', label = '2nd order')\n",
    "plt.legend()\n",
    "plt.grid(True)\n",
    "print(err[-1])"
   ]
  },
  {
   "cell_type": "markdown",
   "metadata": {
    "slideshow": {
     "slide_type": "slide"
    }
   },
   "source": [
    "## Формула Гаусса\n",
    "\n",
    "**Задача 4**  \n",
    "Докажите, что все веса в формуле Гаусса положительны"
   ]
  }
 ],
 "metadata": {
  "celltoolbar": "Slideshow",
  "kernelspec": {
   "display_name": "Python 3",
   "language": "python",
   "name": "python3"
  },
  "language_info": {
   "codemirror_mode": {
    "name": "ipython",
    "version": 3
   },
   "file_extension": ".py",
   "mimetype": "text/x-python",
   "name": "python",
   "nbconvert_exporter": "python",
   "pygments_lexer": "ipython3",
   "version": "3.6.4"
  }
 },
 "nbformat": 4,
 "nbformat_minor": 2
}
