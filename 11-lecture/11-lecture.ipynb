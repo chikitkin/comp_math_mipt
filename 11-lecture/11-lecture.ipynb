{
 "cells": [
  {
   "cell_type": "code",
   "execution_count": 5,
   "metadata": {},
   "outputs": [],
   "source": [
    "%matplotlib inline\n",
    "import pylab\n",
    "import numpy as np\n",
    "from matplotlib import pyplot as plt\n",
    "import matplotlib\n",
    "from scipy import integrate\n",
    "matplotlib.rcParams.update({'font.size': 22})\n",
    "pylab.rcParams['figure.figsize'] = (10.0, 8.0)"
   ]
  },
  {
   "cell_type": "markdown",
   "metadata": {
    "slideshow": {
     "slide_type": "slide"
    }
   },
   "source": [
    "# Вычислительная математика\n",
    "\n",
    "## Численные методы решения ОДУ"
   ]
  },
  {
   "cell_type": "markdown",
   "metadata": {
    "slideshow": {
     "slide_type": "slide"
    }
   },
   "source": [
    "## Основная задача\n",
    "\n",
    "Найти приближенное решение краевой задачи, например:\n",
    "$$\n",
    "\\begin{align}\n",
    "& u_{xx}(x) = f(x,u) \\\\\n",
    "& u(0) = a \\\\\n",
    "& u(1) = b\n",
    "\\end{align}\n",
    "$$\n",
    "или задачи Коши, например:\n",
    "$$\n",
    "\\begin{align}\n",
    "& u_t = f(t,u) \\\\\n",
    "& u(0) = u_0\n",
    "\\end{align}\n",
    "$$\n",
    "\n"
   ]
  },
  {
   "cell_type": "markdown",
   "metadata": {
    "slideshow": {
     "slide_type": "slide"
    }
   },
   "source": [
    "## Пример численного метода\n",
    "$$\n",
    "\\begin{align}\n",
    "& u_{xx}(x) = f(x) \\\\\n",
    "& u(0) = a, \\; u(1) = b\n",
    "\\end{align}\n",
    "$$"
   ]
  },
  {
   "cell_type": "markdown",
   "metadata": {
    "slideshow": {
     "slide_type": "fragment"
    }
   },
   "source": [
    "* Вместо непрерывной функции будем искать значения $U_0, \\ldots, U_{m+1}$, $U_j \\approx u(x_j)$, $x_j = jh$, $h = 1/(m+1)$"
   ]
  },
  {
   "cell_type": "markdown",
   "metadata": {
    "slideshow": {
     "slide_type": "fragment"
    }
   },
   "source": [
    "* Заменим 2-ю производную конечной разностью, получим систему уравнений:\n",
    "$$\n",
    "\\frac{1}{h^2} \\left( U_{j-1} - 2 U_j + U_{j+1} \\right) = f(x_j), \\quad j = 1,2,\\ldots, m\n",
    "$$\n",
    "1-е и $m$-е уравнения содержат известные значения $U_0 = a$, $U_{m+1} = b$"
   ]
  },
  {
   "cell_type": "markdown",
   "metadata": {
    "slideshow": {
     "slide_type": "slide"
    }
   },
   "source": [
    "## Пример численного метода\n",
    "Получим систему линейных уравнений вида \n",
    "$$A U = F$$\n",
    "\n",
    "$$\n",
    "A = \\frac{1}{h^2} \\left[\\begin{array}{cccccc}\n",
    "-2 & 1 & \\\\\n",
    "1 & -2 & 1 \\\\\n",
    "  &  1 & -2 & 1 \\\\\n",
    "  &    & \\ddots & \\ddots & \\ddots \\\\\n",
    "  &    &        & 1 & -2 & 1 \\\\\n",
    "  &    &        &   &  1 & -2\n",
    "\\end{array}\\right], \\quad\n",
    "F = \\left[\\begin{array}{c}\n",
    "f(x_1) - a/h^2 \\\\\n",
    "f(x_2) \\\\\n",
    "f(x_3) \\\\\n",
    "\\vdots \\\\\n",
    "f(x_{m-1}) \\\\\n",
    "f(x_m) - b/h^2\n",
    "\\end{array}\\right]\n",
    "$$\n",
    "* **Как $U$ приближает $u$**?"
   ]
  },
  {
   "cell_type": "markdown",
   "metadata": {
    "slideshow": {
     "slide_type": "slide"
    }
   },
   "source": [
    "## Норма ошибки, сходимость\n",
    "\n",
    "* Введем вектор ошибки:\n",
    "$$\n",
    "\\hat{U} = \\left[\\begin{array}{c} \n",
    "u(x_1) \\\\ \n",
    "u(x_2) \\\\\n",
    "\\vdots \\\\\n",
    "u(x_m)\n",
    "\\end{array}\\right], \\quad\n",
    "E = U - \\hat{U}\n",
    "$$\n"
   ]
  },
  {
   "cell_type": "markdown",
   "metadata": {
    "slideshow": {
     "slide_type": "fragment"
    }
   },
   "source": [
    "* Нужно оценить норму ошибки, например:\n",
    "$$\n",
    "\\Vert E \\Vert_\\infty = \\max_j \\vert E_j\\vert\n",
    "$$\n",
    "Хотим, чтобы $\\Vert E \\Vert = O(h^p),\\; h \\to 0$"
   ]
  },
  {
   "cell_type": "markdown",
   "metadata": {
    "slideshow": {
     "slide_type": "fragment"
    }
   },
   "source": [
    "* **Определение (сходимость):** Численное решение *сходится* к точному с порядком $p$, если $\\Vert E \\Vert = O(h^p),\\; h \\to 0$"
   ]
  },
  {
   "cell_type": "markdown",
   "metadata": {
    "slideshow": {
     "slide_type": "slide"
    }
   },
   "source": [
    "## Невязка, аппроксимация\n",
    "* Мы знаем, что КР формула имеет 2-й порядок аппроксимации, т.е. \n",
    "$$\n",
    "\\frac{1}{h^2} \\left(u(x_{j-1}) - 2 u(x_j) + u(x_{j+1})\\right) - f(x_j) = r_j =\\frac{1}{12} h^2 u^{(4)}(x_j) + O(h^4) = O(h^2)\n",
    "$$"
   ]
  },
  {
   "cell_type": "markdown",
   "metadata": {
    "slideshow": {
     "slide_type": "slide"
    }
   },
   "source": [
    "* Введем вектор невязки с компонентами $r_j$:\n",
    "$$\n",
    "r = A\\hat{U} - F, \\quad A \\hat{U} = F + r\n",
    "$$\n",
    "$\\Vert r \\Vert = O(h^2)$"
   ]
  },
  {
   "cell_type": "markdown",
   "metadata": {
    "slideshow": {
     "slide_type": "slide"
    }
   },
   "source": [
    "* **Определение (аппроксимация)** Разностная задача *аппроксимирует* дифференциальную задачу с порядком $p$, если $\\Vert r \\Vert = O(h^p)$"
   ]
  },
  {
   "cell_type": "markdown",
   "metadata": {
    "slideshow": {
     "slide_type": "slide"
    }
   },
   "source": [
    "## Связь ошибки и невязки, устойчивость\n",
    "$$\n",
    "\\left\\{\\begin{array}{l}\n",
    "A_m U = F\\\\\n",
    "A_m \\hat{U} = F + r\n",
    "\\end{array}\n",
    "\\right.\n",
    "\\Rightarrow \\; A_m E = -r \\; \\Rightarrow \\; E = A_m^{-1} r \\; \\Rightarrow \\; \\Vert E \\Vert \\le \\Vert A_m^{-1} \\Vert \\Vert r \\Vert\n",
    "$$"
   ]
  },
  {
   "cell_type": "markdown",
   "metadata": {
    "slideshow": {
     "slide_type": "fragment"
    }
   },
   "source": [
    "* При $h \\to 0$, $m \\to \\infty$, т.е. размер матрицы $A_m$ переменный"
   ]
  },
  {
   "cell_type": "markdown",
   "metadata": {
    "slideshow": {
     "slide_type": "fragment"
    }
   },
   "source": [
    "* Для того, чтобы ошибка убывала так же, как невязка, достаточно равномерной ограниченности последовательности $A_m^{-1}$:\n",
    "$$\n",
    "\\Vert A_{m}^{-1} \\Vert \\le C \\quad \\forall m > m_0 \\Rightarrow \\quad \\Vert E \\Vert \\le \\Vert A_m^{-1} \\Vert \\Vert r \\Vert \\le C \\Vert r \\Vert = O(h^2)\n",
    "$$"
   ]
  },
  {
   "cell_type": "markdown",
   "metadata": {
    "slideshow": {
     "slide_type": "fragment"
    }
   },
   "source": [
    "* **Определение (устойчивость)** Численный метод называется устойчивым, если $\\exists m_0 :\\Vert A_{m}^{-1} \\Vert \\le C \\quad \\forall m > m_0$"
   ]
  },
  {
   "cell_type": "markdown",
   "metadata": {
    "slideshow": {
     "slide_type": "slide"
    }
   },
   "source": [
    "## Основная теорема \n",
    "**Теорема**   \n",
    "Если численный метод *аппроксимируют* дифференциальную задачу с порядком $p$ и является *устойчивым*, то численное решение *сходится* к точному с порядком $p$. \n",
    "\n",
    "Аппроксимация + Устойчивость $\\Rightarrow$ Сходимость"
   ]
  },
  {
   "cell_type": "markdown",
   "metadata": {
    "slideshow": {
     "slide_type": "fragment"
    }
   },
   "source": [
    "* **Аппроксимацию и устойчивость можно проверить, не зная точное решение.**"
   ]
  },
  {
   "cell_type": "markdown",
   "metadata": {
    "slideshow": {
     "slide_type": "slide"
    }
   },
   "source": [
    "## Исследование устойчивости\n",
    "* Матрица $A$ - симметричная, $\\Vert A \\Vert_2 = \\max_p \\vert \\lambda_p\\vert$, $\\Vert A^{-1} \\Vert = \\left(\\min \\vert \\lambda_p\\vert \\right)^{-1}$\n"
   ]
  },
  {
   "cell_type": "markdown",
   "metadata": {
    "slideshow": {
     "slide_type": "fragment"
    }
   },
   "source": [
    "* Собственные векторы и собственные числа матрицы $A$:\n",
    "$$\n",
    "\\lambda_p = \\frac{2}{h^2} \\left(\\cos(p \\pi h) - 1\\right), \\quad u_j^p = \\sin(p \\pi j h) \\; p = 1, \\ldots, m\n",
    "$$"
   ]
  },
  {
   "cell_type": "markdown",
   "metadata": {
    "slideshow": {
     "slide_type": "fragment"
    }
   },
   "source": [
    "$$\n",
    "\\begin{align}\n",
    "(Au^p)_j & = \\frac{1}{h^2} (u_{j-1}^p - 2 u_j^p + u_{j+1}^p) = \\\\\n",
    "& =\\frac{1}{h^2} (\\sin (p \\pi (j-1)h) - 2 \\sin(p\\pi j h) + \\sin(p \\pi (j+1) h)) = \\quad // \\sin(a \\pm b) = \\sin a \\cos b \\pm \\cos a \\sin b // \\\\\n",
    "& =\\frac{1}{h^2} (2 \\sin (p \\pi j h) \\cos(p \\pi h) - 2\\sin (p \\pi j h)) = \\lambda_p u_j^p\n",
    "\\end{align}\n",
    "$$"
   ]
  },
  {
   "cell_type": "markdown",
   "metadata": {
    "slideshow": {
     "slide_type": "fragment"
    }
   },
   "source": [
    "* Минимальное с.ч $\\lambda_1 = \\frac{2}{h^2} (\\cos(\\pi h) - 1) = \\frac{2}{h^2} (-\\frac{1}{2} \\pi^2 h^2 + O(h^4)) = - \\pi^2 + O(h^2)$"
   ]
  },
  {
   "cell_type": "markdown",
   "metadata": {
    "slideshow": {
     "slide_type": "slide"
    }
   },
   "source": [
    "## Численные методы для решения задачи Коши\n",
    "Рассмотрим задачу Коши:\n",
    "$$\n",
    "\\begin{align}\n",
    "& u_t (t) = f(t,u), \\; t \\in[0,1] \\\\\n",
    "& u(0) = u_0\n",
    "\\end{align}\n",
    "$$"
   ]
  },
  {
   "cell_type": "markdown",
   "metadata": {
    "slideshow": {
     "slide_type": "fragment"
    }
   },
   "source": [
    "* Введем сетку $t_n = n \\Delta t$, $n = 0, \\ldots, N$, $\\Delta t = 1/N$, будем искать $U_n \\approx u(t_n)$"
   ]
  },
  {
   "cell_type": "markdown",
   "metadata": {
    "slideshow": {
     "slide_type": "fragment"
    }
   },
   "source": [
    "* Заменим производную конечной-разностью, получим систему уравнений:\n",
    "$$\n",
    "\\begin{align}\n",
    "& \\frac{1}{\\Delta t} (U_{n+1} - U_n) = f(t_n,U_n), \\; n = 0, N-1 \\\\\n",
    "& U_0 = u_0\n",
    "\\end{align}\n",
    "$$"
   ]
  },
  {
   "cell_type": "markdown",
   "metadata": {
    "slideshow": {
     "slide_type": "slide"
    }
   },
   "source": [
    "* В отличие от краевой задачи, значения $U^n$ можно вычислять реккурентно:\n",
    "$$\n",
    "U_{n+1} = U_n + \\Delta t f(t_n, U_n)\n",
    "$$\n",
    "поэтому устойчивость будет определятся свойствами метода на одном шаге по времени."
   ]
  },
  {
   "cell_type": "markdown",
   "metadata": {
    "slideshow": {
     "slide_type": "slide"
    }
   },
   "source": [
    "## Методы высокого порядка\n",
    "* Для увеличения порядка сходимости нужно увеличить порядок аппроксимации. Можно выделить 2 класса методов\n",
    "    1. Многошаговые (на каждом шаге используется много предыдущих значений)\n",
    "    2. Одношаговые (внутри одного шага по времени вычисляются промежуточные значения)\n",
    "\n",
    "* \n",
    "Пример: многошагового метода:\n",
    "$$\n",
    "\\begin{align}\n",
    "& \\frac{U^{n+1} - U^{n-1}}{2h} = f(t_n, U^{n}) \\\\\n",
    "& U^{n+1} = U^{n-1} + 2h f(t_n,U^n), n = 1,\\ldots,N\n",
    "\\end{align}\n",
    "$$\n"
   ]
  },
  {
   "cell_type": "markdown",
   "metadata": {
    "slideshow": {
     "slide_type": "fragment"
    }
   },
   "source": [
    "* Общий вид:\n",
    "$$\n",
    "\\sum_{j=0}^{s} \\alpha_j U^{n+j} = \\Delta t \\sum_{j = 0}^{s} \\beta_j f^{n+j}\n",
    "$$"
   ]
  },
  {
   "cell_type": "markdown",
   "metadata": {
    "slideshow": {
     "slide_type": "slide"
    }
   },
   "source": [
    "## Методы высокого порядка\n",
    "* Одношаговые многостадийные методы (методы Рунге-Кутты), пример:\n",
    "$$\n",
    "\\begin{align}\n",
    "& k_1 = f(t_n,U^n) \\\\\n",
    "& k_2 = f(t_n + \\frac{h}{2}, U^n + \\frac{h}{2}k_1) \\\\\n",
    "& U^{n+1} = U^n + h k_2\n",
    "\\end{align}\n",
    "$$"
   ]
  },
  {
   "cell_type": "markdown",
   "metadata": {
    "slideshow": {
     "slide_type": "fragment"
    }
   },
   "source": [
    "* Общий вид:\n",
    "Общий вид методов Рунге-Кутты:\n",
    "$$\n",
    "\\begin{align}\n",
    "& k_i = f(t_n + c_jh, U_n + h \\sum_{j = 1}^s a_{ij} k_j), \\; i = 1,\\ldots, s \\\\\n",
    "& U_{n+1} = U_n + h \\sum_{j=1}^s b_j k_j\n",
    "\\end{align}\n",
    "$$\n",
    "Таблица Бутчера:\n",
    "$$\n",
    "\\begin{array}{c|cccc}\n",
    "c_1    & a_{11} & a_{12}& \\dots & a_{1s}\\\\\n",
    "c_2    & a_{21} & a_{22}& \\dots & a_{2s}\\\\\n",
    "\\vdots & \\vdots & \\vdots& \\ddots& \\vdots\\\\\n",
    "c_s    & a_{s1} & a_{s2}& \\dots & a_{ss} \\\\\n",
    "\\hline\n",
    "       & b_1    & b_2   & \\dots & b_s\\\\\n",
    "\\end{array} = \n",
    "\\begin{array}{c|c}\n",
    "\\mathbf{c}& A\\\\\n",
    "\\hline\n",
    "          & \\mathbf{b^T} \\\\\n",
    "\\end{array}\n",
    "$$"
   ]
  }
 ],
 "metadata": {
  "anaconda-cloud": {},
  "celltoolbar": "Slideshow",
  "kernelspec": {
   "display_name": "Python 3",
   "language": "python",
   "name": "python3"
  },
  "language_info": {
   "codemirror_mode": {
    "name": "ipython",
    "version": 3
   },
   "file_extension": ".py",
   "mimetype": "text/x-python",
   "name": "python",
   "nbconvert_exporter": "python",
   "pygments_lexer": "ipython3",
   "version": "3.6.4"
  },
  "livereveal": {
   "start_slideshow_at": "selected",
   "theme": "white",
   "transition": "zoom"
  }
 },
 "nbformat": 4,
 "nbformat_minor": 2
}
