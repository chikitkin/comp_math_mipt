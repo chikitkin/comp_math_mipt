{
 "cells": [
  {
   "cell_type": "code",
   "execution_count": 3,
   "metadata": {},
   "outputs": [],
   "source": [
    "%matplotlib inline\n",
    "import pylab\n",
    "import numpy as np\n",
    "from matplotlib import pyplot as plt\n",
    "import matplotlib\n",
    "from scipy import integrate\n",
    "matplotlib.rcParams.update({'font.size': 22})\n",
    "pylab.rcParams['figure.figsize'] = (10.0, 8.0)"
   ]
  },
  {
   "cell_type": "markdown",
   "metadata": {
    "slideshow": {
     "slide_type": "slide"
    }
   },
   "source": [
    "**Задача 1**  \n",
    "1. Выведите формулу для точного решения краевой задачи:\n",
    "$$\n",
    "\\begin{align}\n",
    "& u_{xx} = f(x) \\\\\n",
    "& u_x(0) = d \\\\\n",
    "& u(1) = b\n",
    "\\end{align}\n",
    "$$\n",
    "2. Придумайте конечно-разностный метод 2-го порядка аппроксимации для решения этой задачи, предложите несколько вариантов аппроксимации левого г.у. Выпишите матрицу линейной системы для значений в узлах."
   ]
  },
  {
   "cell_type": "markdown",
   "metadata": {
    "slideshow": {
     "slide_type": "slide"
    }
   },
   "source": [
    "**Задача 2**  \n",
    "* Запрограммируйте численный метод из предыдущей задачи. \n",
    "* Постройте график зависимости ошибки от шага сетки в логарифмической шкале. Выясните, как изменится порядок сходимости, если использовать аппроксимацию 1-го порядка для левого г.у.\n"
   ]
  },
  {
   "cell_type": "markdown",
   "metadata": {
    "slideshow": {
     "slide_type": "slide"
    }
   },
   "source": [
    "**Задача 3**  \n",
    "1. Выведите условия на коэффициенты *явного* метода РК c 2-мя стадиями, обеспечивающие 2-й порядок аппроксимации. \n",
    "2. Опишите 1-параметрическое семейство *явных* 2-х стадийных методов 2-го порядка аппроксимации"
   ]
  },
  {
   "cell_type": "markdown",
   "metadata": {
    "slideshow": {
     "slide_type": "slide"
    }
   },
   "source": [
    "**Задача 4**  \n",
    "1. Запрограммируйте явный 2-х стадийный метод РК 2-го порядка для решения задачи Коши для ОДУ $u_t = f(t,u)$\n",
    "2. Придумайте задачу с точным аналитическим решением, протестируйте метод на этой задаче."
   ]
  }
 ],
 "metadata": {
  "anaconda-cloud": {},
  "celltoolbar": "Slideshow",
  "kernelspec": {
   "display_name": "Python 3",
   "language": "python",
   "name": "python3"
  },
  "language_info": {
   "codemirror_mode": {
    "name": "ipython",
    "version": 3
   },
   "file_extension": ".py",
   "mimetype": "text/x-python",
   "name": "python",
   "nbconvert_exporter": "python",
   "pygments_lexer": "ipython3",
   "version": "3.6.4"
  },
  "livereveal": {
   "start_slideshow_at": "selected",
   "theme": "white",
   "transition": "zoom"
  }
 },
 "nbformat": 4,
 "nbformat_minor": 2
}
