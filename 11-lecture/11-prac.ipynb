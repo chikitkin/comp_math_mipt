{
 "cells": [
  {
   "cell_type": "code",
   "execution_count": 2,
   "metadata": {},
   "outputs": [],
   "source": [
    "%matplotlib inline\n",
    "import pylab\n",
    "import numpy as np\n",
    "from matplotlib import pyplot as plt\n",
    "import matplotlib\n",
    "from scipy import integrate\n",
    "matplotlib.rcParams.update({'font.size': 22})\n",
    "pylab.rcParams['figure.figsize'] = (10.0, 8.0)"
   ]
  },
  {
   "cell_type": "markdown",
   "metadata": {
    "slideshow": {
     "slide_type": "slide"
    }
   },
   "source": [
    "**Задача 1**  \n",
    "1. Выведите формулу для точного решения краевой задачи:\n",
    "$$\n",
    "\\begin{align}\n",
    "& u_{xx} = f(x) \\\\\n",
    "& u_x(0) = d \\\\\n",
    "& u(1) = b\n",
    "\\end{align}\n",
    "$$\n",
    "2. Придумайте конечно-разностный метод 2-го порядка аппроксимации для решения этой задачи, предложите несколько вариантов аппроксимации левого г.у. Выпишите матрицу линейной системы для значений в узлах."
   ]
  },
  {
   "cell_type": "markdown",
   "metadata": {
    "slideshow": {
     "slide_type": "slide"
    }
   },
   "source": [
    "**Задача 2**  \n",
    "* Запрограммируйте численный метод из предыдущей задачи. \n",
    "* Постройте график зависимости ошибки от шага сетки в логарифмической шкале. Выясните, как изменится порядок сходимости, если использовать аппроксимацию 1-го порядка для левого г.у.\n"
   ]
  },
  {
   "cell_type": "markdown",
   "metadata": {
    "slideshow": {
     "slide_type": "slide"
    }
   },
   "source": [
    "**Задача 3**  \n",
    "1. Выведите условия на коэффициенты *явного* метода РК c 2-мя стадиями, обеспечивающие 2-й порядок аппроксимации. \n",
    "2. Опишите 1-параметрическое семейство *явных* 2-х стадийных методов 2-го порядка аппроксимации"
   ]
  },
  {
   "cell_type": "markdown",
   "metadata": {
    "slideshow": {
     "slide_type": "slide"
    }
   },
   "source": [
    "**Задача 4**  \n",
    "1. Запрограммируйте явный 2-х стадийный метод РК 2-го порядка для решения задачи Коши для ОДУ $u_t = f(t,u)$\n",
    "2. Придумайте задачу с точным аналитическим решением, протестируйте метод на этой задаче."
   ]
  },
  {
   "cell_type": "markdown",
   "metadata": {
    "slideshow": {
     "slide_type": "slide"
    }
   },
   "source": [
    "## Нелинейный маятник\n",
    "$\\theta''(t) + b \\theta'(t) + c \\sin(\\theta(t)) = 0$"
   ]
  },
  {
   "cell_type": "code",
   "execution_count": 3,
   "metadata": {
    "slideshow": {
     "slide_type": "fragment"
    }
   },
   "outputs": [
    {
     "data": {
      "image/png": "[encoded data removed]",
      "text/plain": [
       "<matplotlib.figure.Figure at 0x93f9898>"
      ]
     },
     "metadata": {},
     "output_type": "display_data"
    }
   ],
   "source": [
    "from scipy.integrate import odeint\n",
    "def pend(y, t, b, c):\n",
    "    theta, omega = y\n",
    "    dydt = [omega, -b*omega - c*np.sin(theta)]\n",
    "    return dydt\n",
    "\n",
    "b = 0.25\n",
    "c = 5.0\n",
    "\n",
    "y0 = [np.pi - 0.1, 0.0]\n",
    "t = np.linspace(0, 10, 101)\n",
    "sol = odeint(pend, y0, t, args=(b, c))\n",
    "import matplotlib.pyplot as plt\n",
    "plt.plot(t, sol[:, 0], 'b', label='theta(t)')\n",
    "plt.plot(t, sol[:, 1], 'g', label='omega(t)')\n",
    "plt.legend(loc='best')\n",
    "plt.xlabel('t')\n",
    "plt.grid()"
   ]
  },
  {
   "cell_type": "markdown",
   "metadata": {
    "slideshow": {
     "slide_type": "slide"
    }
   },
   "source": [
    "**Задача 5**  \n",
    "Запишем уравнения движения брошенного тела  в проекциях на оси $x$, $y$ вместе с определением скорости:\n",
    "$$\n",
    "\\begin{align}\n",
    "\\label{eq:ode_traj}\n",
    "& \\frac{dx}{dt} = v_x \\\\\n",
    "& \\frac{dy}{dt} = v_y \\\\\n",
    "& \\frac{dv_x}{dt} = -\\frac{F_{d}}{m} \\cos{\\alpha} \\\\\n",
    "& \\frac{dv_y}{dt} = -g - \\frac{F_{d}}{m} \\sin{\\alpha}\n",
    "\\end{align}\n",
    "$$\n",
    "$m$ - масса тела, $v_x, v_y$ - компоненты скорости, $\\alpha$ - угол наклона траектории к горизонту, $\\sin{\\alpha} = \\frac{v_y}{\\sqrt{v_x^2 + v_y^2}}$,  $\\cos{\\alpha} = \\frac{v_x}{\\sqrt{v_x^2 + v_y^2}}$, $F_d$ - сила сопротивления (drug) воздуха, действующая на тело.\n",
    "Начальные условия -- скорость в нижней точке траектории ($y = 0, x = 0$.):\n",
    "$$\n",
    "\\begin{align}\n",
    "\\label{eq:ic_traj}\n",
    "& x(t=0) = 0 \\\\\n",
    "& y(t=0) = 0 \\\\\n",
    "& v_x (t=0) = v_x^0 \\\\\n",
    "& v_y (t=0) = v_y^0\n",
    "\\end{align}\n",
    "$$\n",
    "Необходимо  решить задачу Коши с ненулевой силой $F_d$ численно. Расчёт до момента времени $T$, когда тело упадёт на землю $y(T) = 0$.\n",
    "Закон Стокса:$F_d = -6 \\pi r \\mu v$,\n",
    "$r$ - радиус сферического объекта, $\\mu$ - динамическая вязкость среды (для воздуха $\\mu = 1.74 \\times 10^{-5}$ Па$\\cdot$с)"
   ]
  },
  {
   "cell_type": "markdown",
   "metadata": {
    "slideshow": {
     "slide_type": "slide"
    }
   },
   "source": [
    "**Задача 6**\n",
    "\n",
    "Рассмотрим начально-краевую задачу для уравнения теплопроводности:\n",
    "$$\n",
    "\\begin{align}\n",
    "& u_t (t,x) = u_{xx}(t,x) \\\\\n",
    "& u(t,0) = a \\\\\n",
    "& u(t,1) = b \\\\\n",
    "& u(0,x) = u_0(x)\n",
    "\\end{align}\n",
    "$$\n",
    "Один из способов построения численных методов для уравнения в частных производных - последовательная дискретизация по независимым переменным.  \n",
    "В данном случае, применим уже известные нам численные методы для ОДУ. Сначала сделаем дискретизацию по $x$, считая время $t$ - параметром. Введем сетку $x_j = j h, h = 1/N$, и вектор неизвестных в узлах $U(t) = [U_0(t), U_1(t), \\ldots, U_N(t)]$. Получим задачу Коши для системы ОДУ:\n",
    "$$\n",
    "\\begin{align}\n",
    "& U_t(t) = A U \\\\\n",
    "& U(0) = [u_0(x_0), u_0(x_1), \\ldots, u_0(x_N)]\n",
    "\\end{align}\n",
    "$$\n",
    "уравнения для $U_1, \\ldots, U_{N-1}$ получаются также, как в случае краевой задачи для ОДУ. 1-е и последние уравнения соответствуют граничными условиям, которые в данном случае постоянны:\n",
    "$$\n",
    "(U_0)_t = 0, \\, (U_N)_t = 0\n",
    "$$\n",
    "теперь для решения полученной систему ОДУ можно применить любой метод. Рассмотрим неявный метод Эйлера:\n",
    "$$\n",
    "\\frac{U_{n+1} - U_{n}}{\\Delta t} = A U_{n+1} \\Rightarrow \\; (I - \\Delta t A) U_{n+1} = U_n \n",
    "$$\n",
    "В итоге, 1 шаг по времени для решения уравнения теплопроводности требует решения линейной системы с указанной матрицей.\n",
    "\n",
    "1. Запрограммируйте полученный метод решения уравнения теплопроводности, постройте на одном рисунке графики решения в разные моменты времени.\n",
    "2. Постройте графики производной численной решения  по $x$ на левой и правой границе от времени. Эти значения показывают тепловой поток через границу.\n",
    "3. Используя код в следующей ячейке, создайте анимацию решения во времени."
   ]
  },
  {
   "cell_type": "code",
   "execution_count": 13,
   "metadata": {},
   "outputs": [
    {
     "data": {
      "image/png": "[encoded data removed]",
      "text/plain": [
       "<matplotlib.figure.Figure at 0x85be668>"
      ]
     },
     "metadata": {},
     "output_type": "display_data"
    },
    {
     "data": {
      "image/png": "[encoded data removed]",
      "text/plain": [
       "<matplotlib.figure.Figure at 0x85beb38>"
      ]
     },
     "metadata": {},
     "output_type": "display_data"
    }
   ],
   "source": [
    "import numpy as np\n",
    "import matplotlib.pyplot as plt\n",
    "import matplotlib.animation as animation\n",
    "\n",
    "u0 = lambda x : np.exp(-100*(x-0.5)**2) # Начальное условие\n",
    "# xx = np.linspace(0,1,100)\n",
    "# plt.plot(xx, u0(xx))\n",
    "\n",
    "N = 100 # число интервалов по x\n",
    "T = 1 # Конечный момент времени\n",
    "nt = 100 # Число шагов по времени\n",
    "h = 1/N\n",
    "dt = T/nt\n",
    "x = np.linspace(0, 1, N+1)\n",
    "t = np.linspace(0, T, nt+1)\n",
    "U = np.zeros((nt + 1, N + 1)) # Численное решение\n",
    "U[0,:] = u0(x)\n",
    "\n",
    "# \n",
    "# Реализация метода здесь\n",
    "#\n",
    "\n",
    "\n",
    "# \n",
    "# Так можно сделать анимацию (нужно запустить не в Jupyter)\n",
    "#\n",
    "\n",
    "# Удалите это, когда получите численное решение\n",
    "for i in range(1, N+1):\n",
    "    U[i,:] = U[0,:] * (N - i)/N\n",
    "\n",
    "fig, ax = plt.subplots()\n",
    "\n",
    "line, = ax.plot(x, u0(x))\n",
    "\n",
    "def init():\n",
    "    line.set_ydata([np.nan] * len(x))\n",
    "    return line,\n",
    "\n",
    "def animate(i):\n",
    "    line.set_ydata(U[i,:])  # update the data.\n",
    "    return line,\n",
    "# interval - расстояние между кадрами в миллисекундах\n",
    "ani = animation.FuncAnimation(\n",
    "    fig, animate, init_func=init, interval=100, frames = np.arange(nt+1), blit=True, save_count=50)\n",
    "\n",
    "# To save the animation, use e.g.\n",
    "#\n",
    "#ani.save(\"movie.mp4\")\n",
    "#\n",
    "# or\n",
    "#\n",
    "# from matplotlib.animation import FFMpegWriter\n",
    "# writer = FFMpegWriter(fps=15, metadata=dict(artist='Me'), bitrate=1800)\n",
    "# ani.save(\"movie.mp4\", writer=writer)\n",
    "\n",
    "plt.show()"
   ]
  },
  {
   "cell_type": "code",
   "execution_count": null,
   "metadata": {},
   "outputs": [],
   "source": []
  }
 ],
 "metadata": {
  "anaconda-cloud": {},
  "celltoolbar": "Slideshow",
  "kernelspec": {
   "display_name": "Python 3",
   "language": "python",
   "name": "python3"
  },
  "language_info": {
   "codemirror_mode": {
    "name": "ipython",
    "version": 3
   },
   "file_extension": ".py",
   "mimetype": "text/x-python",
   "name": "python",
   "nbconvert_exporter": "python",
   "pygments_lexer": "ipython3",
   "version": "3.6.4"
  },
  "livereveal": {
   "start_slideshow_at": "selected",
   "theme": "white",
   "transition": "zoom"
  }
 },
 "nbformat": 4,
 "nbformat_minor": 2
}
