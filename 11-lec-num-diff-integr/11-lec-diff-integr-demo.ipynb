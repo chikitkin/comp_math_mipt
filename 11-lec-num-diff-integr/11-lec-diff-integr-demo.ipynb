{
 "cells": [
  {
   "cell_type": "markdown",
   "metadata": {},
   "source": [
    "## Приближенное вычисление производной с помощью конечно-разностной формулы"
   ]
  },
  {
   "cell_type": "code",
   "execution_count": 1,
   "metadata": {},
   "outputs": [
    {
     "data": {
      "image/png": "[encoded data removed]",
      "text/plain": [
       "<Figure size 432x288 with 1 Axes>"
      ]
     },
     "metadata": {
      "needs_background": "light"
     },
     "output_type": "display_data"
    }
   ],
   "source": [
    "%matplotlib inline\n",
    "import numpy as np\n",
    "from matplotlib import pyplot as plt\n",
    "import matplotlib\n",
    "matplotlib.rcParams.update({'font.size': 16})\n",
    "\n",
    "f = lambda x : np.sin(x)\n",
    "df = lambda x : np.cos(x)\n",
    "x0 = 0.1\n",
    "n = 30\n",
    "h = np.zeros(n)\n",
    "err = np.zeros(n)\n",
    "for i in range(n):\n",
    "    h[i] = 2**(-i)\n",
    "    df_num = (f(x0 + h[i]) - f(x0)) / h[i]\n",
    "    err[i] = np.abs(df_num - df(x0))\n",
    "fig, ax = plt.subplots()\n",
    "ax.loglog(h,err)\n",
    "ax.grid(True)"
   ]
  },
  {
   "cell_type": "markdown",
   "metadata": {},
   "source": [
    "### Матрицы дифференцирования\n"
   ]
  },
  {
   "cell_type": "code",
   "execution_count": 8,
   "metadata": {},
   "outputs": [
    {
     "name": "stdout",
     "output_type": "stream",
     "text": [
      "8.549e-03\n"
     ]
    }
   ],
   "source": [
    "n = 50\n",
    "h = 1/(n-1)\n",
    "xx = np.linspace(0, 1, n)\n",
    "D = -0.5 * np.diag(np.ones(n-1), k = -1) + \\\n",
    "    +0.5 * np.diag(np.ones(n-1), k = +1)\n",
    "D[0, :2] = np.array([-1, 1])\n",
    "D[-1, -2:] = np.array([-1, 1])\n",
    "# print(D)\n",
    "D = D/h\n",
    "\n",
    "f = np.sin(xx)\n",
    "df = np.cos(xx)\n",
    "\n",
    "df_a = D @ f\n",
    "\n",
    "print('{0:6.3e}'.format(\n",
    "    np.linalg.norm(df_a - df, ord = np.inf)))"
   ]
  },
  {
   "cell_type": "markdown",
   "metadata": {},
   "source": [
    "# Численное интегрирование"
   ]
  },
  {
   "cell_type": "markdown",
   "metadata": {},
   "source": [
    "### Формула трапеций"
   ]
  },
  {
   "cell_type": "code",
   "execution_count": 3,
   "metadata": {},
   "outputs": [
    {
     "name": "stdout",
     "output_type": "stream",
     "text": [
      "1.2417635808503746e-09\n"
     ]
    },
    {
     "data": {
      "image/png": "[encoded data removed]",
      "text/plain": [
       "<Figure size 432x288 with 1 Axes>"
      ]
     },
     "metadata": {
      "needs_background": "light"
     },
     "output_type": "display_data"
    }
   ],
   "source": [
    "f = lambda x: 1/(1 + x**2)\n",
    "I_ex = np.pi/2 \n",
    "N = 15\n",
    "err = np.zeros(N)\n",
    "h = 2/2**np.arange(N)\n",
    "n = 2**np.arange(N)\n",
    "for k in range(N):\n",
    "    x = np.linspace(-1, 1, n[k] + 1)\n",
    "    fval = f(x)\n",
    "    I_tr = h[k] * (np.sum(fval) - 0.5*(fval[0] + fval[-1]))\n",
    "    err[k] = np.abs(I_tr - I_ex)\n",
    "fig, ax = plt.subplots()\n",
    "plt.loglog(h, err, 'ko', label = 'Error')\n",
    "plt.loglog(h, err[-1]*(h/h[-1])**2, 'r-', label = '2nd order')\n",
    "plt.legend()\n",
    "plt.grid(True)\n",
    "print(err[-1])"
   ]
  },
  {
   "cell_type": "markdown",
   "metadata": {},
   "source": [
    "### Квадратурная формула Гаусса"
   ]
  },
  {
   "cell_type": "code",
   "execution_count": 4,
   "metadata": {},
   "outputs": [
    {
     "name": "stdout",
     "output_type": "stream",
     "text": [
      "Error trap  = 8.333e-10\n",
      "Error gauss = 1.554e-15\n"
     ]
    }
   ],
   "source": [
    "from scipy import integrate\n",
    "\n",
    "f = lambda x: 1/(1 + x**2)\n",
    "I_ex = np.pi/2 \n",
    "n = 20000\n",
    "h = 2/n\n",
    "err = np.zeros(N)\n",
    "x = np.linspace(-1, 1, n+1)\n",
    "fval = f(x)\n",
    "I_tr = h * (np.sum(fval) - 0.5*(fval[0] + fval[-1]))\n",
    "#\n",
    "Ig, a = integrate.fixed_quad(f, -1, 1, n = 20)\n",
    "print('Error trap  = {0:6.3e}\\nError gauss = {1:6.3e}'.\n",
    "      format(np.abs(I_tr - I_ex), np.abs(Ig - I_ex)))"
   ]
  }
 ],
 "metadata": {
  "kernelspec": {
   "display_name": "Python 3",
   "language": "python",
   "name": "python3"
  },
  "language_info": {
   "codemirror_mode": {
    "name": "ipython",
    "version": 3
   },
   "file_extension": ".py",
   "mimetype": "text/x-python",
   "name": "python",
   "nbconvert_exporter": "python",
   "pygments_lexer": "ipython3",
   "version": "3.7.6"
  }
 },
 "nbformat": 4,
 "nbformat_minor": 2
}
