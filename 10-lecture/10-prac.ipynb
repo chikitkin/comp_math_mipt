{
 "cells": [
  {
   "cell_type": "code",
   "execution_count": 1,
   "metadata": {},
   "outputs": [],
   "source": [
    "%matplotlib inline\n",
    "import pylab\n",
    "import numpy as np\n",
    "from matplotlib import pyplot as plt\n",
    "import matplotlib\n",
    "from scipy import integrate\n",
    "matplotlib.rcParams.update({'font.size': 22})\n",
    "pylab.rcParams['figure.figsize'] = (10.0, 8.0)"
   ]
  },
  {
   "cell_type": "markdown",
   "metadata": {
    "slideshow": {
     "slide_type": "slide"
    }
   },
   "source": [
    "**Задача 1**  \n",
    "Пусть $F \\in C^1(\\mathbb{R})$, $z$ - единственная неподвижная точка $F$: $z = F(z)$. Докажите:\n",
    "1. Если $\\vert F'(z) \\vert < 1$, то $\\exists \\delta > 0$: метод сходится $\\forall x_0 \\in [z-\\delta, z + \\delta]$\n",
    "2. Если $\\vert F'(z) \\vert > 1$, то метод расходится для любого $x_0 \\ne z$\n",
    "\n",
    "**Задача 2**  \n",
    "* Предложите сходящийся МПИ для вычисления меньшего положительного корня уравнения $e^x - 5x^2 = 0$. \n",
    "* Выведите оценку числа итераций для достижения заданной точности\n",
    "* Напишите программу для вычисления корня, сравните ошибку с теоретической оценкой (за точное значение корня возьмите численное решение после большого числа итераций)"
   ]
  },
  {
   "cell_type": "markdown",
   "metadata": {
    "slideshow": {
     "slide_type": "slide"
    }
   },
   "source": [
    "**Задача 3**  \n",
    "1. Выведите формулы метода Ньютона для решения уравнения $x^{-1} - a = 0$.\n",
    "2.  Оцените, сколько итераций метода Ньютона требуется, чтобы найти обратное к числу $a$ с нужной точностью в IEEE арифметиках одинарной и двойной точностей (число $a$ предварительно нормируется, можно считать, что $a \\in [0.5, 1]$)\n",
    "3. С помощью теоремы об альтернансе найдите линейное приближение к функции $x^{-1}$ на отрезке $[0.5,1]$, которое минимизует *относительную ошибку*. Оцените число итераций в методе Ньютона, если начальное значение берется из линейного приближения.\n",
    "4. Напишите программу для метода Ньютона, сравните два способа выбора начального приближения.\n",
    "\n",
    "[Wiki](https://en.wikipedia.org/wiki/Division_algorithm#Fast_division_methods)"
   ]
  },
  {
   "cell_type": "code",
   "execution_count": null,
   "metadata": {},
   "outputs": [],
   "source": []
  }
 ],
 "metadata": {
  "anaconda-cloud": {},
  "celltoolbar": "Slideshow",
  "kernelspec": {
   "display_name": "Python 3",
   "language": "python",
   "name": "python3"
  },
  "language_info": {
   "codemirror_mode": {
    "name": "ipython",
    "version": 3
   },
   "file_extension": ".py",
   "mimetype": "text/x-python",
   "name": "python",
   "nbconvert_exporter": "python",
   "pygments_lexer": "ipython3",
   "version": "3.6.4"
  },
  "livereveal": {
   "start_slideshow_at": "selected",
   "theme": "white",
   "transition": "zoom"
  }
 },
 "nbformat": 4,
 "nbformat_minor": 2
}
