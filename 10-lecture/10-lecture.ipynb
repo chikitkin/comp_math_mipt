{
 "cells": [
  {
   "cell_type": "code",
   "execution_count": 1,
   "metadata": {},
   "outputs": [],
   "source": [
    "%matplotlib inline\n",
    "import pylab\n",
    "import numpy as np\n",
    "from matplotlib import pyplot as plt\n",
    "import matplotlib\n",
    "from scipy import integrate\n",
    "matplotlib.rcParams.update({'font.size': 22})\n",
    "pylab.rcParams['figure.figsize'] = (10.0, 8.0)"
   ]
  },
  {
   "cell_type": "markdown",
   "metadata": {
    "slideshow": {
     "slide_type": "slide"
    }
   },
   "source": [
    "# Вычислительная математика\n",
    "\n",
    "## Решение нелинейных уравнений\n",
    "\n"
   ]
  },
  {
   "cell_type": "markdown",
   "metadata": {
    "slideshow": {
     "slide_type": "slide"
    }
   },
   "source": [
    "## Основная задача\n",
    "\n",
    "Найти изолированный корень $z$ уравнения $f(x) = 0$. \n",
    "\n",
    "* Если $f$ - непрерывная функция, то $z$ принадлежит отрезку, на концах которого $f(x)$ разного знака.\n",
    "\n",
    "* Если такой отрезок найден, можно воспользоваться делением отрезка пополам или методом золотого сечения.\n",
    "\n",
    "Как правило, используются итерационные методы, поэтому нужно задать критерий остановки итераций, если задана точность $\\epsilon$ приближения к корню."
   ]
  },
  {
   "cell_type": "markdown",
   "metadata": {
    "slideshow": {
     "slide_type": "slide"
    }
   },
   "source": [
    "## Критерий остановки\n",
    "\n",
    "**Теорема** Если $f'$ непрерывна и $\\forall y \\in [x_k -\\epsilon, x_k + \\epsilon]$ верно:\n",
    "$$\n",
    "\\left| f(x_k)/f'(y)\\right| \\le \\epsilon\n",
    "$$\n",
    "то $f(z) = 0$ для некоторого $z \\in [x_k -\\epsilon, x_k + \\epsilon]$"
   ]
  },
  {
   "cell_type": "markdown",
   "metadata": {
    "slideshow": {
     "slide_type": "fragment"
    }
   },
   "source": [
    "**Доказательство**\n",
    "* По теореме Лагранжа $ f(x_k + t) = f(x_k) + f'(y(t)) t$\n",
    "* Следовательно\n",
    "$$\n",
    "\\frac{f(x_k + t)}{f'(y)} = \\frac{f(x_k)}{f'(y)} + t \\ge 0 \\mbox{ при } t = \\epsilon, \\mbox{ и } \\le 0 \\mbox{ при } t = -\\epsilon\n",
    "$$\n",
    "* Производная по предположению не меняет знак (иначе она обращалась бы в 0), следовательно $f(x_k + \\epsilon)$ и $f(x_k - \\epsilon)$ имеют разные знаки (если не равны 0)."
   ]
  },
  {
   "cell_type": "markdown",
   "metadata": {
    "slideshow": {
     "slide_type": "slide"
    }
   },
   "source": [
    "## Метод простой итерации\n",
    "\n",
    "Перепишем уравнение $f(x) = 0$ в виде $x = F(x)$ и будем вычислять приближения к корню итеративно:\n",
    "$$\n",
    "x_{k+1} = F(x_k), k = 0, 1, \\ldots\n",
    "$$\n",
    "\n",
    "Решение $z$ уравнения $z = F(z)$ называется *неподвижной точкой отображения* $F$."
   ]
  },
  {
   "cell_type": "markdown",
   "metadata": {
    "slideshow": {
     "slide_type": "fragment"
    }
   },
   "source": [
    "**Теорема о сжимающих отображениях** <br>\n",
    "   $M$ полное метрическое пространство с расстоянием $\\rho$. Отображение $F: M \\to M$ является сжимающим, т.е.\n",
    "$$\n",
    "\\rho(F(x), F(y)) \\le q \\rho(x,y) \\quad \\forall x, y \\in M\n",
    "$$\n",
    "$0 < q < 1$ не зависит от $x$ и $y$.<br>\n",
    "Тогда уравнение $x = F(x)$ имеет единственное решение и для любого начального приближения $x_0$ метод простой итерации сходится к $z$ со скоростью геометрической прогрессии:\n",
    "$$\n",
    "\\rho(x_k, z) \\le \\frac{q^k}{1 - q} \\rho(x_1, x_0)\n",
    "$$"
   ]
  },
  {
   "cell_type": "markdown",
   "metadata": {
    "slideshow": {
     "slide_type": "slide"
    }
   },
   "source": [
    "## Метод простой итерации\n",
    "**Доказательство**  \n",
    "При $m \\ge k$ \n",
    "$$\n",
    "\\rho(x_m, x_k) \\le \\sum_{i = k}^{m - 1} \\rho (x_{i+1}, x_i) \\le \\sum_{i = k}^{m - 1} q^i \\rho(x_1, x_0) \\le \\frac{q^k}{1 - q} \\rho(x_1, x_0)\n",
    "$$"
   ]
  },
  {
   "cell_type": "markdown",
   "metadata": {
    "slideshow": {
     "slide_type": "fragment"
    }
   },
   "source": [
    "* $\\Rightarrow$ $x_k$ - последовательность Коши $\\Rightarrow$ в силу полноты $M$ она сходится к некоторому $z \\in M$. "
   ]
  },
  {
   "cell_type": "markdown",
   "metadata": {
    "slideshow": {
     "slide_type": "fragment"
    }
   },
   "source": [
    "* $F(z) = z$. "
   ]
  },
  {
   "cell_type": "markdown",
   "metadata": {
    "slideshow": {
     "slide_type": "fragment"
    }
   },
   "source": [
    "* Переход к пределу по $m$ в неравенстве даёт оценку ошибки."
   ]
  },
  {
   "cell_type": "markdown",
   "metadata": {
    "slideshow": {
     "slide_type": "slide"
    }
   },
   "source": [
    "## Метод простой итерации в $\\mathbb{R}^1$\n",
    "\n",
    "* Пусть $F \\in C^{1} [z - \\delta, z + \\delta]$, $z$ -- единственная неподвижная точка\n",
    "* Если $\\lvert F'(z)\\rvert < 1$, то в некоторой $\\delta$-окрестности \n",
    "$$\n",
    "q = \\max_{|x-z| \\le \\delta} \\lvert F'(x) \\rvert| < 1 \\quad \\Rightarrow \\lvert F(x) - F(y) \\le q \\lvert x - y\\rvert \\; \\forall x, y \\in [z - \\delta, z + \\delta]\n",
    "$$\n",
    "* Следовательно, $F$ - сжимающее отображение на полном метрическом пространстве $M = [z - \\delta, z + \\delta]$, МПИ сходится для любого $x_0 \\in M$\n"
   ]
  },
  {
   "cell_type": "markdown",
   "metadata": {
    "slideshow": {
     "slide_type": "slide"
    }
   },
   "source": [
    "## Метод простой итерации в $\\mathbb{R}^n$\n",
    "\n",
    "**Теорема**  \n",
    "Пусть отображение $F : \\mathbb{R}^n \\to \\mathbb{R}^n$ имеет единственную неподвижную точку $z = F(z)$ и непрерывно дифференцируемо в некоторой её окрестности. Тогда, если спектральный радиус якобиана $F'(z)$ меньше $1$, то для всех начальных приближений из некоторой окрестности точки $z$ метод простой итерации сходится к $z$\n",
    "\n",
    "$$\n",
    "F'(x) = \\left[\\begin{array}{ccc}\n",
    "\\frac{\\partial f_1(x)}{\\partial x_1} & \\ldots & \\frac{\\partial f_1(x)}{\\partial x_n} \\\\\n",
    "\\ldots & \\ldots & \\ldots \\\\\n",
    "\\frac{\\partial f_n(x)}{\\partial x_1} & \\ldots & \\frac{\\partial f_n(x)}{\\partial x_n}\n",
    "\\end{array}\\right]\n",
    "$$"
   ]
  },
  {
   "cell_type": "markdown",
   "metadata": {
    "slideshow": {
     "slide_type": "slide"
    }
   },
   "source": [
    "## Метод простой итерации с параметром\n",
    "\n",
    "* Перейти от $f(x) = 0$ к уравнению $x = F(x)$ можно разными способами, например:\n",
    "$$\n",
    "F(x) = x - \\alpha(x) f(x)\n",
    "$$\n"
   ]
  },
  {
   "cell_type": "markdown",
   "metadata": {
    "slideshow": {
     "slide_type": "fragment"
    }
   },
   "source": [
    "* Если $z$ изолированный *простой* корень ($f'(z) \\ne 0$), то $\\alpha$ всегда можно выбрать так, чтобы выполнялось достаточное условие сходимости $\\lvert F'(z) \\rvert < 1$. "
   ]
  },
  {
   "cell_type": "markdown",
   "metadata": {
    "slideshow": {
     "slide_type": "fragment"
    }
   },
   "source": [
    "* Если известны оценки модуля производной, то можно выбрать *оптимальное* значение параметра, минимизирующее оценку скорости сходимости (как для линейных систем)."
   ]
  },
  {
   "cell_type": "markdown",
   "metadata": {
    "slideshow": {
     "slide_type": "fragment"
    }
   },
   "source": [
    "* Чтобы ускорить сходимость, нужно минимизировать $\\lvert F'(z) \\rvert$. Нулевое значение будет, если взять $\\alpha = 1/f'(z)$. Можно взять приближение, тогда получим метод Ньютона:\n",
    "$$\n",
    "\\alpha  = \\frac{1}{f'(x_k)} \\approx \\frac{1}{f'(z)} \\Rightarrow x_{k+1} = x_k -\\frac{f(x_k)}{f'(x_k)}\n",
    "$$"
   ]
  },
  {
   "cell_type": "markdown",
   "metadata": {
    "slideshow": {
     "slide_type": "slide"
    }
   },
   "source": [
    "## Метод Ньютона\n",
    "\n",
    "* Метод Ньютона можно получить с помощью *эрмитовой интерполяции*. Заменим функцию линейной функцией (касательно в точке): \n",
    "$$\n",
    "H(x) = f(x_k) + f'(x_k) (x - x_k)\n",
    "$$"
   ]
  },
  {
   "cell_type": "markdown",
   "metadata": {
    "slideshow": {
     "slide_type": "fragment"
    }
   },
   "source": [
    "* Пусть $f \\in C^2$, $f'(z) \\ne 0$. Тогда \n",
    "$$\n",
    "\\begin{align}\n",
    "f(z) - H(z) & = \\frac{f''(\\xi_k)}{2} (z - x_k)^2 \\\\\n",
    "H(x_{k+1}) - H(z) & = f'(x_k) (x_{k+1} - z)\n",
    "\\end{align}\n",
    "$$"
   ]
  },
  {
   "cell_type": "markdown",
   "metadata": {
    "slideshow": {
     "slide_type": "fragment"
    }
   },
   "source": [
    "Т.к. $f(z) = 0, H(x_{k+1}) = 0$, получаем оценку ошибки:\n",
    "$$\n",
    "e_{k+1} = -\\frac{f''(\\xi_k)}{2 f'(x_k)} e_k^2, \\; e_k = z - x_k\n",
    "$$"
   ]
  },
  {
   "cell_type": "markdown",
   "metadata": {
    "slideshow": {
     "slide_type": "slide"
    }
   },
   "source": [
    "## Метод Ньютона\n",
    "\n",
    "* Метод Ньютона в лучшем случае сходится *квадратично*. По определению последовательность $x_k$ сходится к $z$ с порядком $p$, если \n",
    "$$\n",
    "\\lim_{k \\to \\infty} \\sup \\big| \\frac{e_{k+1}}{e_k^p} \\big| \\le c \\le \\infty\n",
    "$$\n",
    "При $p = 1$ сходимость называется *линейной*, при $p > 1$ - *сверхлинейной*, при $p = 2$ - *квадратичной*.\n",
    "\n",
    "* Условие $f'(z) \\ne 0$ означает, что корень является простым. В общем случае, $z$ - корень кратности $m$, если $f^{(j)}(z) = 0$ при $0 \\le j \\le m-1$ и $f^{(m)}(z) \\ne 0$.\n",
    "\n",
    "* Метод Ньютона может сходиться и для кратного корня, но сходимость может не быть квадратичной. Для $f(x) = x^2$, $e_{k+1} = e_k/2$."
   ]
  },
  {
   "cell_type": "markdown",
   "metadata": {
    "slideshow": {
     "slide_type": "slide"
    }
   },
   "source": [
    "## Сходимость метода Ньютона\n",
    "**Теорема** Пусть $z$ - простой корень уравнения $f(x) = 0$ и \n",
    "1. $f \\in C^2[z - \\delta, z + \\delta]$\n",
    "2. $f'(x) \\ne 0$ при $x \\in [z - \\delta, z + \\delta]$\n",
    "3. $\\gamma \\equiv  \\frac{\\displaystyle  \\max_{|x-z|\\le\\delta} \\big|f''(x)\\big|}{\\displaystyle 2 \\min_{|x-z|\\le \\delta} \\big|f'(x)\\big|} \\ne 0$\n",
    "\n",
    "Тогда $\\forall \\epsilon:\\; 0 < \\epsilon < \\min\\{\\delta, \\gamma^{-1}\\}$ метод Ньютона сходится при любом начальном приближении $x_0 \\in [z-\\epsilon, z+\\epsilon]$ и верно:\n",
    "1. $\\lvert e_{k+1}\\rvert \\le \\gamma \\lvert e_k \\rvert^2 $\n",
    "2. $\\lvert e_k \\rvert \\le \\gamma^{-1} (\\gamma \\lvert e_0 \\rvert)^{2^k} $"
   ]
  },
  {
   "cell_type": "markdown",
   "metadata": {
    "slideshow": {
     "slide_type": "slide"
    }
   },
   "source": [
    "**Доказательство**  \n",
    "* Пусть $x_k \\in [z - \\epsilon, z + \\epsilon]$. Тогда из оценки ошибки и из $0 < \\epsilon < \\min\\{\\delta, \\gamma^{-1}\\}$ следует:\n",
    "$$ \\lvert e_{k+1} \\rvert \\le \\gamma \\lvert e_k \\rvert^2 \\le (\\gamma \\epsilon) \\epsilon \\le \\epsilon \\Rightarrow x_{k+1} \\in [z - \\epsilon, z + \\epsilon]$$\n",
    "\n"
   ]
  },
  {
   "cell_type": "markdown",
   "metadata": {
    "slideshow": {
     "slide_type": "fragment"
    }
   },
   "source": [
    "* Умножим обе части на $\\gamma$ и обозначим $d_k = \\gamma \\lvert e_k \\rvert$, тогда \n",
    "$$d_{k+1} \\le d_k^2 \\Rightarrow d_k \\le d_0^{2^k}$$"
   ]
  },
  {
   "cell_type": "markdown",
   "metadata": {
    "slideshow": {
     "slide_type": "fragment"
    }
   },
   "source": [
    "* Из условий на начальное приближение следует, что $d_0 < 1 \\Rightarrow d_k \\to 0$"
   ]
  },
  {
   "cell_type": "markdown",
   "metadata": {
    "slideshow": {
     "slide_type": "fragment"
    }
   },
   "source": [
    "Следствие: \n",
    "$$\n",
    "\\lim_{k \\to \\infty} \\frac{e_{k+1}}{e_k^2} = -\\frac{f''(z)}{2 f'(z)}\n",
    "$$"
   ]
  },
  {
   "cell_type": "code",
   "execution_count": 2,
   "metadata": {
    "slideshow": {
     "slide_type": "slide"
    }
   },
   "outputs": [
    {
     "name": "stdout",
     "output_type": "stream",
     "text": [
      "x =  1.5\n",
      "x =  1.4166666666666667\n",
      "x =  1.4142156862745099\n",
      "Error =  2.1239014147411694e-06\n",
      "Residual =  6.007304882871267e-06\n",
      "x =  1.4142156862745099\n",
      "z =  1.4142135623730951\n"
     ]
    }
   ],
   "source": [
    "a = 2\n",
    "f = lambda x: x**2 - a\n",
    "df = lambda x: 2*x\n",
    "x_ex = a**0.5\n",
    "x = a\n",
    "n = 3\n",
    "for i in range(n):\n",
    "    xp = x\n",
    "    x = xp - f(xp)/df(xp)\n",
    "    print('x = ', x)\n",
    "print('Error = ', np.abs(x - x_ex))\n",
    "print('Residual = ' , f(x))\n",
    "print('x = ', x)\n",
    "print('z = ', x_ex)"
   ]
  },
  {
   "cell_type": "markdown",
   "metadata": {
    "slideshow": {
     "slide_type": "slide"
    }
   },
   "source": [
    "## Метод Ньютона многомерный случай\n",
    "\n",
    "**Теорема**  \n",
    "Пусть $f(z) = 0$ и в замкнутом шаре $\\{x: \\Vert x - z \\Vert_\\infty \\le \\delta\\}$ якобиан отображения $f : \\mathbb{R}^n \\to \\mathbb{R}^n$ существует и является невырожденным, и для любых $x,y$ из этого шара\n",
    "$$\n",
    "\\Vert f'(x) - f'(y) \\Vert_\\infty \\le c \\Vert x - y \\Vert_\\infty, \\; c >0\n",
    "$$\n",
    "Пусть \n",
    "$$\\gamma = c \\max_{\\Vert z - x\\Vert_\\infty \\le \\delta} \\Vert [f'(x)^{-1}]_\\infty \\quad \\mbox{ и } \\quad 0 < \\epsilon < \\min\\{\\delta, \\gamma^{-1}\\}$$\n",
    "Тогда $\\forall x_0 \\in \\{x: \\Vert x - z \\Vert_\\infty \\le \\epsilon\\}$ метод Ньютона сходится и \n",
    "* $\\Vert e_{k+1} \\Vert_\\infty \\le \\gamma \\Vert e_k \\Vert_\\infty^2$\n",
    "* $\\Vert e_k \\Vert_\\infty \\le \\gamma^{-1} (\\gamma \\Vert e_0 \\Vert_\\infty)^{2^k}$"
   ]
  },
  {
   "cell_type": "markdown",
   "metadata": {
    "slideshow": {
     "slide_type": "slide"
    }
   },
   "source": [
    "**Доказательство**  \n",
    "* По теореме Лагранжа найдутся точки $\\xi_1, \\ldots, \\xi_n$:\n",
    "$$\n",
    "f(x) - f(y) = J_k (x-y), \\quad J_k = \n",
    "\\left[\\begin{array}{ccc}\n",
    "\\frac{\\partial f_1(\\xi_1)}{\\partial x_1} & \\ldots & \\frac{\\partial f_1(\\xi_1)}{\\partial x_n} \\\\\n",
    "\\ldots & \\ldots & \\ldots \\\\\n",
    "\\frac{\\partial f_n(\\xi_n)}{\\partial x_1} & \\ldots & \\frac{\\partial f_n(\\xi_n)}{\\partial x_n}\n",
    "\\end{array}\\right]\n",
    "$$\n",
    "\n"
   ]
  },
  {
   "cell_type": "markdown",
   "metadata": {
    "slideshow": {
     "slide_type": "fragment"
    }
   },
   "source": [
    "* $\n",
    "e_{k+1} = e_k - [f'(x_k)]^{-1} (f(z) - f(x_k)) = e_k - [f'(x_k)]^{-1} J_k e_k = [f'(x_k)]^{-1} (f'(x_k) - J_k) e_k \n",
    "$"
   ]
  },
  {
   "cell_type": "markdown",
   "metadata": {
    "slideshow": {
     "slide_type": "fragment"
    }
   },
   "source": [
    "* По условию Липшица \n",
    "$$\\Vert f'(x_k) - J_k \\Vert_\\infty \\le c \\max_{1 \\le j \\le n} \\Vert x_k - \\xi_j \\Vert_\\infty \\le c \\Vert x_k - z \\Vert_\\infty$$\n",
    "следовательно \n",
    "$\\Vert e_{k+1}\\Vert_\\infty = \\Vert [f'(x_k)]^{-1} (f'(x_k) - J_k) e_k\\Vert_\\infty \\le \\gamma \\Vert e_k\\Vert_\\infty^2$"
   ]
  },
  {
   "cell_type": "markdown",
   "metadata": {
    "slideshow": {
     "slide_type": "slide"
    }
   },
   "source": [
    "## Метод секущих\n",
    "### Общая идея методов высокого порядка\n",
    "Локально приблизим $f$ или $f^{-1}$ многочленом, и для многочлена решим задачу точно.\n",
    "* Если применить интерполяционный подход  и воспользоваться линейной лагранжевой интерполяцией самой функции или обратной функции, то получим *метод секущих*.\n"
   ]
  },
  {
   "cell_type": "markdown",
   "metadata": {
    "slideshow": {
     "slide_type": "slide"
    }
   },
   "source": [
    "#### Метод секущих\n",
    "* По двум последним приближениям $x_{k-1}, x_{k}$ построим линейный интерполянт:\n",
    "$$\n",
    "L(x) = f(x_{k-1}) \\frac{x - x_k}{x_{k-1} - x_k} + f(x_k) \\frac{x-x_{k-1}}{x_k - x_{k-1}}\n",
    "$$\n",
    "* Его единственный корень:\n",
    "$$\n",
    "x_{k+1} = x_k - f(x_k) \\frac{x_k - x_{k-1}}{f(x_k) - f(x_{k-1})}\n",
    "$$"
   ]
  },
  {
   "cell_type": "markdown",
   "metadata": {
    "slideshow": {
     "slide_type": "slide"
    }
   },
   "source": [
    "## Метод секущих, оценка ошибки\n",
    "Пусть $z$ - искомый корень и $e_k \\equiv z - x_k$. Пусть $f \\in C^2$. Для одного шага метода секущих получим такие соотношения:\n",
    "$$\n",
    "\\begin{align}\n",
    "f(z) - L(z) & = \\frac{f''(\\xi_k)}{2} (z - x_k) (z - x_{k-1}) \\\\\n",
    "L(x_{k+1}) - L(z) & = \\frac{f(x_k) - f(x_{k-1})}{x_k - x_{k-1}} (x_{k+1} - z) = f'(\\zeta_k)(x_{k+1} - z) \\Rightarrow\n",
    "\\end{align}\n",
    "$$\n",
    "$$ e_{k+1} = -\\frac{f''(\\xi_k)}{2 f'(\\zeta_k)} e_k e_{k-1}$$\n"
   ]
  },
  {
   "cell_type": "markdown",
   "metadata": {
    "slideshow": {
     "slide_type": "slide"
    }
   },
   "source": [
    "## Метод секущих, скорость сходимости\n",
    "Пусть $f \\in C^2, f'(z) \\ne 0$ и метод секущих сходится. Тогда, для некоторого $\\gamma > 0$:\n",
    "$$\n",
    "\\lvert e_{k+1}\\rvert \\le \\gamma \\lvert e_k \\rvert \\lvert e_{k-1} \\rvert\n",
    "$$\n",
    "Введем величины $d_k = \\gamma \\lvert e_k \\rvert$ и предположим, что $d_0 \\le d < 1$, $d_1 \\le d < 1$. Тогда\n",
    "* $d_2 \\le d_1 d_0 \\le d^2$ \n",
    "* $d_3 \\le d_2 d_1 \\le d^3 \\ldots$ \n",
    "$d_k \\le d^{\\phi_k}$, где $\\phi_0 = \\phi_1 = 1$, $\\phi_k = \\phi_{k-1} + \\phi_{k-2}, \\; k = 2,3,\\ldots$\n",
    "$$\n",
    "\\phi_k = \\frac{1}{\\sqrt{5}} \\left( \\left(\\frac{1+\\sqrt{5}}{2}\\right)^{k+1} - \\left(\\frac{1 - \\sqrt{5}}{2} \\right)^{k+1} \\right)\n",
    "$$"
   ]
  }
 ],
 "metadata": {
  "anaconda-cloud": {},
  "celltoolbar": "Slideshow",
  "kernelspec": {
   "display_name": "Python 3",
   "language": "python",
   "name": "python3"
  },
  "language_info": {
   "codemirror_mode": {
    "name": "ipython",
    "version": 3
   },
   "file_extension": ".py",
   "mimetype": "text/x-python",
   "name": "python",
   "nbconvert_exporter": "python",
   "pygments_lexer": "ipython3",
   "version": "3.6.4"
  },
  "livereveal": {
   "start_slideshow_at": "selected",
   "theme": "white",
   "transition": "zoom"
  }
 },
 "nbformat": 4,
 "nbformat_minor": 2
}
