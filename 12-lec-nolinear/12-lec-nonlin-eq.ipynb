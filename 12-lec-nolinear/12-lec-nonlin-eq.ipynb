{
 "cells": [
  {
   "cell_type": "markdown",
   "metadata": {},
   "source": [
    "## Метод Ньютона для извлечения квадратного корня"
   ]
  },
  {
   "cell_type": "markdown",
   "metadata": {},
   "source": [
    "$\\displaystyle f(x) = x^2 - a = 0 \\Rightarrow x_{k+1} = x_k - \\frac{x_k^2 - a}{2 x_k} = \\frac{1}{2} (x_k + \\frac{a}{x_k})$"
   ]
  },
  {
   "cell_type": "code",
   "execution_count": 1,
   "metadata": {},
   "outputs": [
    {
     "name": "stdout",
     "output_type": "stream",
     "text": [
      "x =   1.5000000000000000\n",
      "x =   1.4166666666666667\n",
      "x =   1.4142156862745099\n",
      "Error = 2.12e-06\n",
      "x =  1.4142156862745099\n",
      "z =  1.4142135623730951\n"
     ]
    }
   ],
   "source": [
    "import numpy as np\n",
    "\n",
    "a = 2\n",
    "x_ex = a**0.5\n",
    "x = 2\n",
    "n = 3\n",
    "for i in range(n):\n",
    "    xp = x\n",
    "    x = xp - (xp**2 - a)/ ( 2 * xp)\n",
    "    print('x = {0:20.16f}'.format(x))\n",
    "\n",
    "print('Error = {0:6.2e}'.format(np.abs(x - x_ex)))\n",
    "\n",
    "print('x = ', x)\n",
    "print('z = ', x_ex)"
   ]
  }
 ],
 "metadata": {
  "kernelspec": {
   "display_name": "Python 3",
   "language": "python",
   "name": "python3"
  },
  "language_info": {
   "codemirror_mode": {
    "name": "ipython",
    "version": 3
   },
   "file_extension": ".py",
   "mimetype": "text/x-python",
   "name": "python",
   "nbconvert_exporter": "python",
   "pygments_lexer": "ipython3",
   "version": "3.7.6"
  }
 },
 "nbformat": 4,
 "nbformat_minor": 2
}
